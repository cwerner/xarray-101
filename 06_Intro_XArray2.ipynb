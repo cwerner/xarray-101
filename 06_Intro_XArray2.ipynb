{
 "cells": [
  {
   "cell_type": "markdown",
   "metadata": {},
   "source": [
    "<div class=\"alert alert-success\">  \n",
    "    \n",
    "-------\n",
    "# XArray 101 🌍  \n",
    "-------\n",
    "* Jupyter and Python Basics\n",
    "* Xarray Intro\n",
    "* __Xarray Advanced__\n",
    "* Vector Data\n",
    "* Remote Sensing\n",
    "* Visualization\n",
    "\n",
    "-------  \n",
    "</div>"
   ]
  },
  {
   "cell_type": "markdown",
   "metadata": {},
   "source": [
    "# Some more XArray Analysis\n",
    "\n",
    "Example from: https://rabernat.github.io/research_computing_2018/intermediate-xarray.html  "
   ]
  },
  {
   "cell_type": "code",
   "execution_count": null,
   "metadata": {},
   "outputs": [],
   "source": [
    "%matplotlib inline\n",
    "%load_ext autoreload\n",
    "%autoreload 2"
   ]
  },
  {
   "cell_type": "code",
   "execution_count": null,
   "metadata": {},
   "outputs": [],
   "source": [
    "import xarray as xr\n",
    "import numpy as np\n",
    "import matplotlib.pylab as plt"
   ]
  },
  {
   "cell_type": "markdown",
   "metadata": {},
   "source": [
    "First, we want to replicate this plot here... It shows the SST ENSO anomalies...\n",
    "\n",
    "Lets try to reproduce this...\n",
    "\n",
    "![](https://www.ncdc.noaa.gov/monitoring-content/teleconnections/eln-f-pg.gif)"
   ]
  },
  {
   "cell_type": "code",
   "execution_count": null,
   "metadata": {},
   "outputs": [],
   "source": [
    "ds = xr.open_dataset('NOAA_NCDC_ERSST_v3b_SST.nc')\n",
    "ds"
   ]
  },
  {
   "cell_type": "code",
   "execution_count": null,
   "metadata": {},
   "outputs": [],
   "source": [
    "# convert to -180/180 \n",
    "ds.coords['lon'] = (ds.coords['lon'] + 180) % 360 - 180\n",
    "ds = ds.sortby(ds.lon)"
   ]
  },
  {
   "cell_type": "markdown",
   "metadata": {},
   "source": [
    "Let's select the regions first."
   ]
  },
  {
   "cell_type": "code",
   "execution_count": null,
   "metadata": {},
   "outputs": [],
   "source": [
    "a = ds.sel(lat=slice(-5,5), lon=slice(-170,-120)).mean(dim=['lat','lon'])\n",
    "a"
   ]
  },
  {
   "cell_type": "code",
   "execution_count": null,
   "metadata": {},
   "outputs": [],
   "source": [
    "a.sst.plot();"
   ]
  },
  {
   "cell_type": "markdown",
   "metadata": {},
   "source": [
    "Then we compute the diff between value and average value for the sst variable. We also do a rolling window smooth (size=3)..."
   ]
  },
  {
   "cell_type": "code",
   "execution_count": null,
   "metadata": {},
   "outputs": [],
   "source": [
    "ts = (a - a.mean()).sst.rolling(time=3, center=True).mean()\n",
    "ts.plot();"
   ]
  },
  {
   "cell_type": "markdown",
   "metadata": {},
   "source": [
    "And now we try to replicate the plot by going into details with matplotlib..."
   ]
  },
  {
   "cell_type": "code",
   "execution_count": null,
   "metadata": {},
   "outputs": [],
   "source": [
    "fig, ax = plt.subplots(1,1,figsize=(8,6))\n",
    "y2=np.zeros_like(ts.values)\n",
    "\n",
    "ax.hlines(0.5, ts.time.values[0], ts.time.values[-1], color='red', ls='--')\n",
    "ax.hlines(-0.5, ts.time.values[0], ts.time.values[-1], color='blue', ls='--')\n",
    "ax.plot(ts.time.values, ts.values, c='black')\n",
    "ax.fill_between(ts.time.values, ts.values, y2, where=ts.values > 0, facecolor='orange', lw=.5)\n",
    "ax.fill_between(ts.time.values, ts.values, y2, where=ts.values <=0, facecolor='cyan', lw=.5)\n",
    "ax.set_xlim(ts.time.values[0], ts.time.values[-1])\n",
    "ax.set_ylim(-3,3)\n",
    "ax.set_ylabel('Anomaly in Degrees C')\n",
    "ax.set_xlabel('Year');"
   ]
  },
  {
   "cell_type": "code",
   "execution_count": null,
   "metadata": {},
   "outputs": [],
   "source": []
  },
  {
   "cell_type": "code",
   "execution_count": null,
   "metadata": {},
   "outputs": [],
   "source": []
  },
  {
   "cell_type": "code",
   "execution_count": null,
   "metadata": {},
   "outputs": [],
   "source": []
  }
 ],
 "metadata": {
  "kernelspec": {
   "display_name": "xarray-101",
   "language": "python",
   "name": "xarray-101"
  },
  "language_info": {
   "codemirror_mode": {
    "name": "ipython",
    "version": 3
   },
   "file_extension": ".py",
   "mimetype": "text/x-python",
   "name": "python",
   "nbconvert_exporter": "python",
   "pygments_lexer": "ipython3",
   "version": "3.8.6"
  }
 },
 "nbformat": 4,
 "nbformat_minor": 4
}
