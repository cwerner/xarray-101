{
 "cells": [
  {
   "cell_type": "markdown",
   "id": "documentary-commander",
   "metadata": {},
   "source": [
    "<div class=\"alert alert-success\">  \n",
    "\n",
    "-------\n",
    "# XArray 101 🌍  \n",
    "-------\n",
    "* Jupyter and Python Basics\n",
    "* Xarray Intro\n",
    "* Xarray Advanced\n",
    "* Vector Data\n",
    "* Remote Sensing\n",
    "* Visualization\n",
    "* __Excercise__\n",
    "\n",
    "-------  \n",
    "</div>"
   ]
  },
  {
   "cell_type": "code",
   "execution_count": null,
   "id": "provincial-camel",
   "metadata": {},
   "outputs": [],
   "source": [
    "%matplotlib inline\n",
    "%load_ext autoreload\n",
    "%autoreload 2"
   ]
  },
  {
   "cell_type": "code",
   "execution_count": null,
   "id": "returning-dining",
   "metadata": {},
   "outputs": [],
   "source": [
    "# extra lib to install\n",
    "! conda install -c conda-forge pyepsg"
   ]
  },
  {
   "cell_type": "code",
   "execution_count": null,
   "id": "straight-institution",
   "metadata": {},
   "outputs": [],
   "source": [
    "import intake\n",
    "\n",
    "import cartopy.crs as ccrs\n",
    "import geopandas as gpd\n",
    "import holoviews as hv\n",
    "import numpy as np\n",
    "import xarray as xr\n",
    "import rioxarray\n",
    "from pathlib import Path\n",
    "\n",
    "import hvplot.pandas\n",
    "import hvplot.xarray"
   ]
  },
  {
   "cell_type": "markdown",
   "id": "egyptian-learning",
   "metadata": {},
   "source": [
    "# Optional: Build a data catalog\n",
    "\n",
    "## Attempt one: list all assets individually"
   ]
  },
  {
   "cell_type": "code",
   "execution_count": null,
   "id": "fixed-level",
   "metadata": {},
   "outputs": [],
   "source": [
    "%%writefile catalog_brunnenkopf_type1.yml\n",
    "\n",
    "# exclosures - non-grazed\n",
    "# grazed ref - grazed\n",
    "# fenced - excluded area (spring, river)\n",
    "\n",
    "sources: \n",
    "\n",
    "    exclosure:\n",
    "        description: 'Area excluded from grazing'\n",
    "        driver: shapefile\n",
    "        args:\n",
    "            urlpath: 'data_anne/VectorData/Kontrollflaechen_etc_EPSG_25832/Exclosures.shp' \n",
    "    \n",
    "    grazed:\n",
    "        description: 'Area grazed'\n",
    "        driver: shapefile\n",
    "        args:\n",
    "            urlpath: 'data_anne/VectorData/Kontrollflaechen_etc_EPSG_25832/Grazed_Reference.shp' \n",
    "\n",
    "    fenced:\n",
    "        description: 'Area fenced and excluded from analysis'\n",
    "        driver: shapefile\n",
    "        args:\n",
    "            urlpath: 'data_anne/VectorData/Kontrollflaechen_etc_EPSG_25832/Fenced_area.shp' \n"
   ]
  },
  {
   "cell_type": "code",
   "execution_count": null,
   "id": "official-programmer",
   "metadata": {},
   "outputs": [],
   "source": [
    "cat1 = intake.open_catalog(\"catalog_brunnenkopf_type1.yml\")\n",
    "list(cat1)"
   ]
  },
  {
   "cell_type": "code",
   "execution_count": null,
   "id": "adult-quick",
   "metadata": {},
   "outputs": [],
   "source": [
    "cat1.exclosure.describe()"
   ]
  },
  {
   "cell_type": "code",
   "execution_count": null,
   "id": "continued-picture",
   "metadata": {},
   "outputs": [],
   "source": [
    "# read data into geopandas dataframes\n",
    "nongrazed = cat1.exclosure.read()\n",
    "grazed = cat1.grazed.read()\n",
    "fenced = cat1.fenced.read()"
   ]
  },
  {
   "cell_type": "markdown",
   "id": "pressing-difference",
   "metadata": {},
   "source": [
    "## Attempt two: use parameters to differentiate between assets"
   ]
  },
  {
   "cell_type": "code",
   "execution_count": null,
   "id": "binding-japan",
   "metadata": {},
   "outputs": [],
   "source": [
    "%%writefile catalog_brunnenkopf_type2.yml\n",
    "\n",
    "# exclosures - non-grazed\n",
    "# grazed ref - grazed\n",
    "# fenced - excluded area (spring, river)\n",
    "\n",
    "sources: \n",
    "\n",
    "    brunnenkopf:\n",
    "        description: 'Brunnenkopf Alm Vector Data'\n",
    "        driver: shapefile\n",
    "        parameters:\n",
    "            area_type:\n",
    "                description: 'Type of area: Exclosures, Fenced_area, or Grazed_Reference'\n",
    "                type: str\n",
    "                default: \"Exclosures\"\n",
    "                allowed: [\"Exclosures\", \"Fenced_area\", \"Grazed_Reference\"]\n",
    "        args:\n",
    "            urlpath: 'data_anne/VectorData/Kontrollflaechen_etc_EPSG_25832/{{area_type}}.shp' \n"
   ]
  },
  {
   "cell_type": "code",
   "execution_count": null,
   "id": "meaning-provider",
   "metadata": {},
   "outputs": [],
   "source": [
    "cat2 = intake.open_catalog(\"catalog_brunnenkopf_type2.yml\")\n",
    "list(cat2)"
   ]
  },
  {
   "cell_type": "code",
   "execution_count": null,
   "id": "coated-athletics",
   "metadata": {},
   "outputs": [],
   "source": [
    "cat2.brunnenkopf.describe()"
   ]
  },
  {
   "cell_type": "code",
   "execution_count": null,
   "id": "widespread-legislature",
   "metadata": {},
   "outputs": [],
   "source": [
    "# read data into geopandas dataframes\n",
    "nongrazed = cat2.brunnenkopf(area_type=\"Exclosures\").read()\n",
    "grazed = cat2.brunnenkopf(area_type=\"Grazed_Reference\").read()\n",
    "fenced = cat2.brunnenkopf(area_type=\"Fenced_area\").read()"
   ]
  },
  {
   "cell_type": "markdown",
   "id": "working-emerald",
   "metadata": {},
   "source": [
    "# Inspect the data\n",
    "\n",
    "## Vector data\n",
    "\n",
    "We use `hvplot` (and in the background `holoviews` and `geoviews`) for a quick interactive plot of the experimental setup at Brunnenkopf.\n",
    "\n",
    "⚠️ **NOTE** ⚠️ \n",
    "- Tiles can be used to get our data some context or to prettify the maps. There are a bunch of options and some work better for specify map settings (also, \n",
    "not all tile sources provide data for any zoom level)\n",
    "> Valid tiles sources: 'CartoDark', 'CartoEco', 'CartoLight', 'CartoMidnight', 'EsriImagery', 'EsriNatGeo', 'EsriReference', 'EsriTerrain', \n",
    "> 'EsriUSATopo', 'OSM', 'StamenLabels', 'StamenTerrain', 'StamenTerrainRetina', 'StamenToner', 'StamenTonerBackground', \n",
    "> 'StamenWatercolor', 'Wikipedia'\n",
    "- The data is projected in [UTM 32N](https://epsg.io/25832)\n",
    "- Map tiles are in epsg:4326. In order to overlay our data correctly we either project the geopandas dataframe on the fly (using `.to_epsg(4326)`) or better we specify a projection of the original data so hvplot can reproject it for us automatically (if you provide the `crs` argument you don't have to provide `geo=True`)."
   ]
  },
  {
   "cell_type": "code",
   "execution_count": null,
   "id": "vertical-agent",
   "metadata": {},
   "outputs": [],
   "source": [
    "# data/ source projection UTM 32N\n",
    "projection = ccrs.epsg(25832)\n",
    "\n",
    "# we add the tiles to the first/ base layer of our plot\n",
    "plot1 = nongrazed.hvplot(crs=projection, label=\"Exclosure\", tiles=\"OSM\")\n",
    "plot2 = fenced.hvplot(crs=projection, label=\"Fenced\", fill_color=\"none\", line_color=\"red\", line_dash=\"dashed\", line_width=2)\n",
    "plot3 = grazed.hvplot(crs=projection, label=\"Grazed (Ref)\", fill_color=\"none\", line_color=\"blue\", line_dash=\"dotted\", line_width=2)\n",
    "\n",
    "# combine the layers into one (interactive) plot\n",
    "(plot1 * plot2 * plot3).opts( width=800, height=600, title=\"Brunnenkopf Setup\")"
   ]
  },
  {
   "cell_type": "markdown",
   "id": "located-immune",
   "metadata": {},
   "source": [
    "## Multi-spectral raster data"
   ]
  },
  {
   "cell_type": "code",
   "execution_count": null,
   "id": "mexican-intro",
   "metadata": {},
   "outputs": [],
   "source": [
    "%%writefile catalog_brunnenkopf_msp.yml\n",
    "\n",
    "sources: \n",
    "\n",
    "    msp_2019:\n",
    "        description: 'Brunnenkopf MutiSpectral Data 2019'\n",
    "        driver: rasterio\n",
    "        parameters:\n",
    "            band:\n",
    "                description: 'Spectral band'\n",
    "                type: str\n",
    "                default: \"red\"\n",
    "                allowed: [\"red\", \"green\", \"nir\", \"red edge\"]\n",
    "        args:\n",
    "            urlpath: 'data_anne/MultispectralData/brunnenkopf_msp_20190716/brunnenkopf_msp_20190716_transparent_reflectance_{{ band }}.tif' \n",
    "            chunks: {}\n",
    "\n",
    "    msp_2020:\n",
    "        description: 'Brunnenkopf MutiSpectral Data 2020'\n",
    "        driver: xarray\n",
    "        parameters:\n",
    "            band:\n",
    "                description: 'Spectral band'\n",
    "                type: str\n",
    "                default: \"red\"\n",
    "                allowed: [\"red\", \"green\", \"nir\", \"red edge\"]\n",
    "        args:\n",
    "            urlpath: 'data_anne/MultispectralData/brunnenkopf_msp_20200728/brunnenkopf_msp_20200728_transparent_reflectance_{{ band }}.tif' \n",
    "            chunks: {}\n"
   ]
  },
  {
   "cell_type": "code",
   "execution_count": null,
   "id": "saving-knight",
   "metadata": {},
   "outputs": [],
   "source": [
    "cat_msp = intake.open_catalog(\"catalog_brunnenkopf_msp.yml\")\n",
    "list(cat_msp)"
   ]
  },
  {
   "cell_type": "code",
   "execution_count": null,
   "id": "extra-resolution",
   "metadata": {},
   "outputs": [],
   "source": [
    "cat_msp.msp_2019.describe()"
   ]
  },
  {
   "cell_type": "code",
   "execution_count": null,
   "id": "color-choir",
   "metadata": {},
   "outputs": [],
   "source": []
  },
  {
   "cell_type": "code",
   "execution_count": null,
   "id": "theoretical-watershed",
   "metadata": {},
   "outputs": [],
   "source": [
    "red = cat_msp.msp_2019(band='red').read()\n",
    "red = red.where(red>-10000).squeeze(drop=True) \n",
    "red = red / red.max()\n",
    "red.hvplot(aspect=1, cmap='reds')"
   ]
  },
  {
   "cell_type": "code",
   "execution_count": null,
   "id": "narrative-mediterranean",
   "metadata": {},
   "outputs": [],
   "source": [
    "nir = cat_msp.msp_2019(band='nir').read()\n",
    "nir = nir.where(nir>-10000).squeeze(drop=True) \n",
    "nir = nir / nir.max()\n",
    "nir.hvplot(aspect=1, cmap='blues')"
   ]
  },
  {
   "cell_type": "code",
   "execution_count": null,
   "id": "contrary-depression",
   "metadata": {},
   "outputs": [],
   "source": [
    "def calc_ndvi(nir, red):\n",
    "    \"\"\"NDVI\"\"\"\n",
    "    return (nir - red) / (nir + red)"
   ]
  },
  {
   "cell_type": "code",
   "execution_count": null,
   "id": "amber-avatar",
   "metadata": {},
   "outputs": [],
   "source": [
    "ndvi = calc_ndvi(nir, red)\n",
    "ndvi"
   ]
  },
  {
   "cell_type": "code",
   "execution_count": null,
   "id": "visible-laundry",
   "metadata": {},
   "outputs": [],
   "source": [
    "p1 = nongrazed.hvplot(crs=projection, label=\"Non-Grazed\", fill_color=\"none\", line_color=\"red\", line_dash=\"dotted\", line_width=2)\n",
    "p2 = grazed.hvplot(crs=projection, label=\"Grazed\", fill_color=\"none\", line_color=\"blue\", line_dash=\"dotted\", line_width=2)"
   ]
  },
  {
   "cell_type": "code",
   "execution_count": null,
   "id": "proof-think",
   "metadata": {},
   "outputs": [],
   "source": [
    "ndvi.hvplot(crs=projection, aspect=1, cmap='BrBG') * p1 * p2"
   ]
  },
  {
   "cell_type": "markdown",
   "id": "bottom-argument",
   "metadata": {},
   "source": [
    "### Calculate stats"
   ]
  },
  {
   "cell_type": "code",
   "execution_count": null,
   "id": "excellent-campaign",
   "metadata": {},
   "outputs": [],
   "source": [
    "ndvi = ndvi.rio.set_crs(nongrazed.crs)\n",
    "nongrazed_ndvi = ndvi.rio.clip(nongrazed.geometry)\n",
    "print(f\"NDVI non-grazed: {nongrazed_ndvi.mean().values:.2f} ± {nongrazed_ndvi.std().values:.2f}\")\n",
    "\n",
    "grazed_ndvi = ndvi.rio.clip(grazed.geometry)\n",
    "grazed_ndvi.mean().values\n",
    "print(f\"NDVI grazed:     {grazed_ndvi.mean().values:.2f} ± {grazed_ndvi.std().values:.2f}\")\n"
   ]
  },
  {
   "cell_type": "code",
   "execution_count": null,
   "id": "unsigned-silicon",
   "metadata": {},
   "outputs": [],
   "source": []
  },
  {
   "cell_type": "markdown",
   "id": "possible-angel",
   "metadata": {},
   "source": [
    "# RGB Images"
   ]
  },
  {
   "cell_type": "code",
   "execution_count": null,
   "id": "minus-butter",
   "metadata": {},
   "outputs": [],
   "source": [
    "rgbdata = Path(\"data_anne/RGBData\")\n",
    "\n",
    "rgb2020 = xr.open_rasterio(rgbdata / \"brunnenkopf_rgb_20200728_rs.tif\", chunks={'band':4, 'x':1024, 'y':1024})\n",
    "rgb2020"
   ]
  },
  {
   "cell_type": "code",
   "execution_count": null,
   "id": "modified-procedure",
   "metadata": {},
   "outputs": [],
   "source": [
    "rgb2018 = xr.open_rasterio(rgbdata / \"brunnenkopf_rgb_20180718_rs.tif\", chunks={'band':4, 'x':1024, 'y':1024})\n",
    "rgb2019 = xr.open_rasterio(rgbdata / \"brunnenkopf_rgb_20190716_rs.tif\", chunks={'band':4, 'x':1024, 'y':1024})"
   ]
  },
  {
   "cell_type": "markdown",
   "id": "static-pathology",
   "metadata": {},
   "source": [
    "The data is huge, let's select a subset and check this out first"
   ]
  },
  {
   "cell_type": "code",
   "execution_count": null,
   "id": "civil-hundred",
   "metadata": {},
   "outputs": [],
   "source": [
    "a = rgb2020.isel(x=slice(12000, 15000),  y=slice(7000, 10000))\n",
    "x_slice = slice(a.x.min().values, a.x.max().values)\n",
    "y_slice = slice(a.y.max().values, a.y.min().values) # NOTE the negative orientation!"
   ]
  },
  {
   "cell_type": "code",
   "execution_count": null,
   "id": "oriented-revision",
   "metadata": {},
   "outputs": [],
   "source": [
    "# show a (random) subset of 3000x3000 px...\n",
    "r2018 = rgb2018.sel(x=x_slice, y=y_slice).hvplot(aspect=1, title=\"2018\")\n",
    "r2019 = rgb2019.sel(x=x_slice, y=y_slice).hvplot(aspect=1, title=\"2019\")\n",
    "r2020 = rgb2020.sel(x=x_slice, y=y_slice).hvplot(aspect=1, title=\"2020\")\n",
    "r2018 + r2019 + r2020"
   ]
  },
  {
   "cell_type": "code",
   "execution_count": null,
   "id": "diverse-subscriber",
   "metadata": {},
   "outputs": [],
   "source": [
    "grazed_ref"
   ]
  },
  {
   "cell_type": "code",
   "execution_count": null,
   "id": "initial-plate",
   "metadata": {},
   "outputs": [],
   "source": [
    "grazed_ref.shape"
   ]
  },
  {
   "cell_type": "code",
   "execution_count": null,
   "id": "specified-reproduction",
   "metadata": {},
   "outputs": [],
   "source": []
  },
  {
   "cell_type": "code",
   "execution_count": null,
   "id": "hidden-optics",
   "metadata": {},
   "outputs": [],
   "source": [
    "regions = []\n",
    "for index, row in grazed_ref.iterrows():\n",
    "    b = rgb2018.rio.clip([row.geometry], drop=True)\n",
    "    regions.append( b.persist().to_dataset(name='z') )\n",
    "    \n",
    "hv.Layout([r.hvplot.rgb(x='x', y='y', z='z', bands='band', aspect=1).opts(axiswise=True) for r in regions]).cols(3)"
   ]
  },
  {
   "cell_type": "code",
   "execution_count": null,
   "id": "floppy-mileage",
   "metadata": {},
   "outputs": [],
   "source": [
    "import matplotlib.pyplot as plt"
   ]
  },
  {
   "cell_type": "code",
   "execution_count": null,
   "id": "exposed-hours",
   "metadata": {},
   "outputs": [],
   "source": [
    "regions = []\n",
    "for _, region in grazed_ref.iterrows():   \n",
    "    b = rgb2018.rio.clip([region.geometry], drop=False, invert=True)\n",
    "    regions.append(b)\n",
    "\n",
    "print(regions)\n",
    "    \n",
    "fig, ax = plt.subplots(1, grazed_ref.shape[0], figsize=(3*grazed_ref.shape[0], 4))\n",
    "\n",
    "for i, p in enumerate(regions):\n",
    "    regions[i].plot(ax=ax[i])"
   ]
  },
  {
   "cell_type": "code",
   "execution_count": null,
   "id": "transparent-breed",
   "metadata": {},
   "outputs": [],
   "source": []
  },
  {
   "cell_type": "code",
   "execution_count": null,
   "id": "automatic-voice",
   "metadata": {},
   "outputs": [],
   "source": []
  },
  {
   "cell_type": "code",
   "execution_count": null,
   "id": "magnetic-better",
   "metadata": {},
   "outputs": [],
   "source": []
  },
  {
   "cell_type": "code",
   "execution_count": null,
   "id": "great-antigua",
   "metadata": {},
   "outputs": [],
   "source": []
  },
  {
   "cell_type": "code",
   "execution_count": null,
   "id": "solar-mozambique",
   "metadata": {},
   "outputs": [],
   "source": []
  },
  {
   "cell_type": "code",
   "execution_count": null,
   "id": "chinese-million",
   "metadata": {},
   "outputs": [],
   "source": []
  },
  {
   "cell_type": "code",
   "execution_count": null,
   "id": "unavailable-ceramic",
   "metadata": {},
   "outputs": [],
   "source": []
  },
  {
   "cell_type": "code",
   "execution_count": null,
   "id": "major-harris",
   "metadata": {},
   "outputs": [],
   "source": []
  }
 ],
 "metadata": {
  "kernelspec": {
   "display_name": "xarray-101",
   "language": "python",
   "name": "xarray-101"
  },
  "language_info": {
   "codemirror_mode": {
    "name": "ipython",
    "version": 3
   },
   "file_extension": ".py",
   "mimetype": "text/x-python",
   "name": "python",
   "nbconvert_exporter": "python",
   "pygments_lexer": "ipython3",
   "version": "3.8.6"
  }
 },
 "nbformat": 4,
 "nbformat_minor": 5
}
